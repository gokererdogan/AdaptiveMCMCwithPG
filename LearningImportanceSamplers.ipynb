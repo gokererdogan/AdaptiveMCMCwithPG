{
 "cells": [
  {
   "cell_type": "markdown",
   "metadata": {},
   "source": [
    "One problem with learning MCMC samplers using our method is the difficulty of obtaining a good estimate of the transition probabilities. This is mainly because the transition probabilities involve intractable integrals. For example, for the Metropolis-Hastings algorithm, the transition probability in the reject case involves an integral over all possible states. In our current implementation, we approximate this using the current sample but that is far from a good estimate. What if we focus on sampling techniques that do not involve accept/reject operations? In that case, there will be no issues with estimating the transition probabilities, and this will probably lead to a much more efficient algorithm. \n",
    "\n",
    "I decided to look at importance sampling first. Importance sampling is not really a sampling technique; it is a method for estimating expectations with respect to a target distribution using samples from a easy-to-sample from proposal distribution. However, since the optimal proposal distribution for importance sampling is the target distribution itself, if we can learn the optimal proposal, we will have learned a good sampler for the target distribution. The optimal proposal distribution is the one that leads to equal importance weights for each sample. Hence, the variance of importance weights is a good measure of the quality of a sampler. More formally, let $p(x)=\\frac{p^*(x)}{Z}$ be our target distribution and $q_{\\theta}$ be our proposal distribution. We would like to calculate some expectation with respect to $p$: $\\mathbb{E}_p[f(x)]$. In importance sampling, we get $N$ samples $x_1, \\dots, x_N$ from $q_{\\theta}$ and use these to calculate the desired expectation:\n",
    "$$\n",
    "\\mathbb{E}_p[f(x)] = \\int \\frac{p^*(x)}{Z} f(x) dx = \\frac{\\int p^*(x) \\frac{q(x)}{q(x)} f(x) dx}{\\int p^*(x) \\frac{q(x)}{q(x)} dx}\n",
    "$$\n",
    "Defining $w(x) = \\frac{p^*(x)}{q(x)}$, we can write\n",
    "$$\n",
    "\\mathbb{E}_p[f(x)] = \\frac{\\int q(x) w(x) f(x) dx}{\\int q(x) w(x) dx} \\approx \\frac{\\sum_{x \\sim q} w(x) f(x)}{\\sum_{x \\sim q} w(x)}\n",
    "$$\n",
    "The optimal $q$ is the target distribution $p$ itself, in which case all $w$ are equal. Therefore, for the optimal $q$, the variance of importance weights is 0, $\\text{Var}(w) = 0$. Now, if we use the negative variance of importance weights as our reward function, we can measure the goodness of a proposal distribution with the following expectation\n",
    "$$\n",
    "\\mathbb{E}_{(x_1,\\dots,x_N) \\sim q_{\\theta}} [-\\text{Var}((w(x_1),\\dots,w(x_N))]\n",
    "$$\n",
    "Then we can learn a better proposal by maximizing this expectation with respect to $\\theta$. We can get an estimate of the gradient of this expectation using a REINFORCE-style algorithm (see Manuscript for details). However, differently from the case in our Manuscript, now the reward function (i.e., variance of importance weights) depends on $\\theta$ too (importance weights involve $q$ which depend on $\\theta$). Taking this into account, we get the following expression for the gradient\n",
    "$$\n",
    "\\nabla_{\\theta} \\mathbb{E}_{(x_1,\\dots,x_N) \\sim q_{\\theta}} [-\\text{Var}((w(x_1),\\dots,w(x_N))] \\approx \\sum_{(x_1,\\dots,x_N) \\sim q_{\\theta}} -\\nabla_{\\theta} \\log \\left( \\prod_{n=1}^{N} q_{\\theta}(x_n) \\right) \\text{Var}((w(x_1),\\dots,w(x_N)) \\\\ - \\sum_{(x_1,\\dots,x_N) \\sim q_{\\theta}} \\nabla_{\\theta} \\text{Var}((w(x_1),\\dots,w(x_N)) \n",
    "$$\n",
    "where we get an extra second term involving the gradient of the reward function. In some cases (e.g., when we can differentiate the target distribution), we can reparameterize $q$ and get a more efficient estimate of the gradient. We will see an example of this in the below 1D Gaussian example. \n",
    "\n",
    "Note that what we have talked about so far is not really a Markov chain technique because samples are drawn independently from $q$. However, we can modify the above to use a Markov chain as we will see below.\n"
   ]
  },
  {
   "cell_type": "markdown",
   "metadata": {},
   "source": [
    "###1D Gaussian example\n",
    "Let us look at a simple example. We'd like to sample from $p(x) = \\mathcal{N}(0, 1)$ using a Gaussian distribution $q_{m,s}(x) = \\mathcal{N}(m, s^2)$. Let $x_1, \\dots, x_N$ be samples from $q_{m,s}$. Our objective, which measures the goodness of proposal $q$, can be written as\n",
    "$$\n",
    "\\mathbb{E}_{(x_1,\\dots,x_N) \\sim q_{m,s}} [-\\text{Var}((w(x_1),\\dots,w(x_N)))] = -\\sum_{(x_1,\\dots,x_N)} \\left(\\prod_{n=1}^{N} q_{m,s}(x_n) \\right) \\text{Var}((w(x_1),\\dots,w(x_N)))\n",
    "$$\n",
    "Reparameterize $q_{m,s}$ to get\n",
    "$$\n",
    "-\\sum_{(x_1,\\dots,x_N)} \\left(\\prod_{n=1}^{N} q_{m,s}(x_n) \\right) \\text{Var}((w(x_1),\\dots,w(x_N))) = -\\sum_{(\\epsilon_1,\\dots,\\epsilon_N)} \\left(\\prod_{n=1}^{N} \\mathcal{N}(\\epsilon_n;0, 1) \\right) \\text{Var}((w(m + s\\epsilon_1),\\dots,w(m + s\\epsilon_N)))\n",
    "$$\n",
    "where $(\\epsilon_1,\\dots,\\epsilon_N) \\sim \\mathcal{N}(0,1)$. Then the gradient is\n",
    "$$\n",
    "\\nabla_{m,s} -\\sum_{(\\epsilon_1,\\dots,\\epsilon_N)} \\left(\\prod_{n=1}^{N} \\mathcal{N}(\\epsilon_n;0, 1) \\right) \\text{Var}((w(m + s\\epsilon_1),\\dots,w(m + s\\epsilon_N))) \\approx -\\sum_{(\\epsilon_1,\\dots,\\epsilon_N) \\sim \\mathcal{N}(0,1)} \\nabla_{m,s} \\text{Var}((w(m + s\\epsilon_1),\\dots,w(m + s\\epsilon_N)))\n",
    "$$\n",
    "The code below does gradient ascent using this gradient estimate to learn the optimal $m$ and $s$."
   ]
  },
  {
   "cell_type": "code",
   "execution_count": 158,
   "metadata": {
    "collapsed": true
   },
   "outputs": [],
   "source": [
    "import autograd.numpy as np\n",
    "import autograd as ag\n",
    "\n",
    "def p(x):\n",
    "    \"\"\"\n",
    "    Unnormalized target distribution\n",
    "    \"\"\"\n",
    "    return np.exp(-0.5*(x)**2)\n",
    "\n",
    "def q(x, params):\n",
    "    \"\"\"\n",
    "    Proposal probability q(x)\n",
    "    We don't use this.\n",
    "    \"\"\"\n",
    "    m, logs = params\n",
    "    s = np.exp(logs)\n",
    "    return (1./np.sqrt(2.*np.pi)) * (1./s) * np.exp(-0.5*(x-m)**2/(s**2))\n",
    "\n",
    "def unit_normal(e):\n",
    "    \"\"\"\n",
    "    Unit normal pdf\n",
    "    \"\"\"\n",
    "    return (1./np.sqrt(2.*np.pi)) * np.exp(-0.5*e**2)\n",
    "\n",
    "def reward(es, params):\n",
    "    \"\"\"\n",
    "    Calculate the reward for a given set of samples.\n",
    "    es are samples from a unit normal used to calculate samples from q.\n",
    "    \"\"\"\n",
    "    m, logs = params\n",
    "    s = np.exp(logs)\n",
    "    px = p(m + es*s)\n",
    "    qx = unit_normal(es)\n",
    "    # importance weights\n",
    "    wx = px / qx\n",
    "    # normalize weights\n",
    "    wx /= np.sum(wx)\n",
    "    return -np.var(wx)\n",
    "\n",
    "# gradient of the reward function\n",
    "grad_reward = ag.grad(reward, argnum=1)"
   ]
  },
  {
   "cell_type": "code",
   "execution_count": 159,
   "metadata": {
    "collapsed": false
   },
   "outputs": [
    {
     "name": "stdout",
     "output_type": "stream",
     "text": [
      "Initial params: [ 0.7975914  -1.63233556]\n",
      "True params: [0.0, 0.0]\n",
      "1 [ 0.43329938 -1.32309203]\n",
      "2 [ 0.01607027 -0.0349198 ]\n",
      "3 [ 0.00139609 -0.00024249]\n",
      "4 [  1.29744388e-04  -5.29515308e-07]\n",
      "5 [  1.24870887e-05  -3.00159895e-07]\n",
      "6 [  1.18580291e-06  -2.94458797e-08]\n",
      "7 [  1.13064346e-07   2.02749769e-09]\n",
      "8 [  1.03415961e-08   3.67767226e-10]\n",
      "9 [  9.42626877e-10   5.39614571e-11]\n",
      "10 [  8.33903628e-11  -9.54070361e-13]\n",
      "Learned params: [  8.33903628e-11  -9.54070361e-13]\n"
     ]
    }
   ],
   "source": [
    "m = np.random.randn()\n",
    "logs = np.random.randn()\n",
    "params = np.array([m, logs])\n",
    "print \"Initial params:\", params\n",
    "print \"True params: [0.0, 0.0]\"\n",
    "\n",
    "samples_per_episode = 20\n",
    "episode_count = 5000\n",
    "report_interval = 500\n",
    "lr = 1.0\n",
    "\n",
    "for e in range(episode_count):\n",
    "    es = np.random.randn(samples_per_episode)\n",
    "    g = grad_reward(es, params)\n",
    "    params += lr*g\n",
    "    if (e+1) % report_interval == 0:\n",
    "        print (e+1) / report_interval, params\n",
    "print \"Learned params:\", params"
   ]
  },
  {
   "cell_type": "markdown",
   "metadata": {},
   "source": [
    "###1D Gaussian example with a Markov chain sampler\n",
    "\n",
    "In the above example, we collected independent samples from $q_{\\theta}$ and optimized the variance of importance weights over these samples to learn a good $q_{\\theta}$, which we ultimately use to obtain approximate samples from the target distribution $p$. However, such a sampler is limited by the form of $q_{\\theta}$. Since we use a simple $q_{\\theta}$ (i.e., a Gaussian distribution) in most cases, we won't be able to learn a good approximation to $p$. What if we use a Markov chain instead of obtaining independent samples from $q_{\\theta}$? Imagine we learn the transition kernel $q_{\\theta}(x_t|x_{t-1})$ for a Markov chain. Hence each sample is in fact a collection of samples $x_1,\\dots,x_T$. In other words, our target distribution is $p(x_1, \\dots, x_T)$ and we are doing sequential importance sampling with proposal distribution $q_{\\theta}(x_t|x_{t-1})$. All $x_t$ have the same distribution $p(x)$ and $p(x_t|x_{t-1}) = p(x_t)$. Again, the importance weight for a sample $\\mathbf{x} = x_1,\\dots,x_T$ is\n",
    "$$\n",
    "w(\\mathbf{x}) = \\frac{\\prod_t p^*(x_t)}{q_1(x_1)\\prod_t q_{\\theta}(x_t|x_{t-1})}\n",
    "$$\n",
    "where $q_1$ is the initial state distribution (which we assume is fixed and do not learn). Now we can apply the approach outlined above to learn a good $q_{\\theta}$. Let $\\mathbf{x}_1,\\dots, \\mathbf{x}_N$ be samples from $q_{\\theta}(\\mathbf{x})$. Note that each $\\mathbf{x}_n$ is in fact a collection of samples $x_1,\\dots,x_T$ from the Markov chain defined by $q_{\\theta}(x_t|x_{t-1})$. We want to maximize the following expectation\n",
    "$$\n",
    "\\mathbb{E}_{(\\mathbf{x}_1,\\dots,\\mathbf{x}_N) \\sim q_{\\theta}} [-\\text{Var}((w(\\mathbf{x}_1),\\dots,w(\\mathbf{x}_N)))] = -\\sum_{(\\mathbf{x}_1,\\dots,\\mathbf{x}_N)} \\left(\\prod_{n=1}^{N} q_{\\theta}(\\mathbf{x}_n) \\right) \\text{Var}((w(\\mathbf{x}_1),\\dots,w(\\mathbf{x}_N)))\n",
    "$$\n",
    "\n",
    "Let $q_{\\theta=(w_m,b_m,w_s,b_s)}(x_t|x_{t-1}) = \\mathcal{N}(w_m x_{t-1} + b_m, \\exp(w_s x_{t-1} + b_s)^2)$. Reparameterize $q_{\\theta}$ to get\n",
    "$$\n",
    "-\\sum_{(\\mathbf{x}_1,\\dots,\\mathbf{x}_N)} \\left(\\prod_{n=1}^{N} q_{\\theta}(\\mathbf{x}_n) \\right) \\text{Var}((w(\\mathbf{x}_1),\\dots,w(\\mathbf{x}_N))) = -\\sum_{(\\mathbf{\\epsilon}_1,\\dots,\\mathbf{\\epsilon}_N)} \\left(\\prod_{n=1}^{N} \\mathcal{N}(\\mathbf{\\epsilon}_n;0, \\mathbf{I}) \\right) \\text{Var}((w(\\theta, \\mathbf{\\epsilon}_1),\\dots,w(\\theta, \\mathbf{\\epsilon}_N)))\n",
    "$$\n",
    "\n",
    "Here $q_{\\theta}(\\mathbf{x}_n) = \\mathcal{N}(\\mathbf{\\epsilon}_n;0, \\mathbf{I}) = \\prod_{t=1}^{T} \\mathcal{N}(\\epsilon_{nt};0, 1)$ and $w(\\mathbf{x}_n) = w(\\theta, \\mathbf{\\epsilon}_n) = \\frac{\\prod_t p^*(\\theta, \\epsilon_nt)}{q_1(\\epsilon_{n1})\\prod_t N(\\epsilon_{nt};0, 1)}$. In the following, we assume $q_1(x) = \\mathcal{N}(0,1)$. Again, we can form a Monte Carlo estimate of the gradient of this expression.\n",
    "$$\n",
    "\\nabla_{\\theta} \\mathbb{E}_{(\\mathbf{x}_1,\\dots,\\mathbf{x}_N) \\sim q_{\\theta}} [-\\text{Var}((w(\\mathbf{x}_1),\\dots,w(\\mathbf{x}_N)))] \\approx -\\sum_{(\\mathbf{\\epsilon}_1,\\dots,\\mathbf{\\epsilon}_N) \\sim \\mathcal{N}(0, \\mathbf{I})} \\nabla_{\\theta} \\text{Var}((w(\\theta, \\mathbf{\\epsilon}_1),\\dots,w(\\theta, \\mathbf{\\epsilon}_N)))\n",
    "$$\n",
    "The code below does gradient ascent using this gradient estimate to learn the optimal $q$."
   ]
  },
  {
   "cell_type": "code",
   "execution_count": 184,
   "metadata": {
    "collapsed": true
   },
   "outputs": [],
   "source": [
    "import autograd.numpy as np\n",
    "import autograd as ag\n",
    "\n",
    "def p(x):\n",
    "    \"\"\"\n",
    "    Unnormalized target distribution\n",
    "    \"\"\"\n",
    "    return np.exp(-0.5*x**2)\n",
    "\n",
    "def q(xp, x, params):\n",
    "    \"\"\"\n",
    "    Proposal probability q(xp|x)\n",
    "    We don't use this.\n",
    "    \"\"\"\n",
    "    w_m, b_s, w_logs, b_logs = params\n",
    "    m = w_m * x + b_m\n",
    "    logs = w_logs * x + b_logs\n",
    "    s = np.exp(logs)\n",
    "    return (1./np.sqrt(2.*np.pi)) * (1./s) * np.exp(-0.5*(x-m)**2/(s**2))\n",
    "\n",
    "def get_proposal_distribution(x, params):\n",
    "    w_m, b_m, w_logs, b_logs = params\n",
    "    m = w_m * x + b_m\n",
    "    logs = w_logs * x + b_logs\n",
    "    s = np.exp(logs)\n",
    "    return m, s    \n",
    "    \n",
    "def unit_normal(e):\n",
    "    \"\"\"\n",
    "    Unit normal pdf\n",
    "    \"\"\"\n",
    "    return (1./np.sqrt(2.*np.pi)) * np.exp(-0.5*e**2)\n",
    "\n",
    "def reward(es, params):\n",
    "    \"\"\"\n",
    "    Calculate the reward for a given set of samples.\n",
    "    es are N samples from a T dimensional unit normal used to calculate samples from q.\n",
    "    \"\"\"\n",
    "    px = np.zeros(es.shape[0])\n",
    "    x = es[:, 0]\n",
    "    px = px + p(x)\n",
    "    for t in range(1, es.shape[1]):\n",
    "        m, s = get_proposal_distribution(x, params)\n",
    "        x = m + es[:, t]*s\n",
    "        px = px + p(x)\n",
    "    \n",
    "    qx = np.sum(unit_normal(es), axis=1)\n",
    "    # importance weights\n",
    "    wx = px / qx\n",
    "    # normalize weights\n",
    "    wx /= np.sum(wx)\n",
    "    return -np.var(wx)\n",
    "    \n",
    "# gradient of the reward function\n",
    "grad_reward = ag.grad(reward, argnum=1)"
   ]
  },
  {
   "cell_type": "code",
   "execution_count": 161,
   "metadata": {
    "collapsed": false
   },
   "outputs": [
    {
     "name": "stdout",
     "output_type": "stream",
     "text": [
      "Initial params: [ 0.47322725 -0.19712538 -0.15801755 -0.0404277 ]\n",
      "Iteration  50 , params:  [ 0.16891344  0.02214555  0.01604627 -0.14457628]\n",
      "Iteration  100 , params:  [ 0.03594182  0.00175411 -0.00525639 -0.0019805 ]\n",
      "Iteration  150 , params:  [  4.76444917e-04   1.07305347e-03  -1.95869994e-04   8.68722901e-05]\n",
      "Iteration  200 , params:  [ -1.25483150e-04   1.08470168e-04  -9.88970331e-05   8.70638576e-05]\n",
      "Iteration  250 , params:  [  1.65369863e-05   8.83484519e-06  -1.03442468e-05  -4.27345602e-07]\n",
      "Iteration  300 , params:  [ -1.47296818e-06   7.30363011e-07  -4.11824583e-07  -7.70735225e-07]\n",
      "Iteration  350 , params:  [  1.01098106e-07  -1.91269422e-08   3.06195797e-08   7.53500840e-09]\n",
      "Iteration  400 , params:  [ -7.72668618e-09  -4.06799289e-09   3.85957588e-09   1.07956371e-09]\n",
      "Iteration  450 , params:  [  5.35235409e-10   2.70979333e-10  -3.22116741e-10   2.18078324e-10]\n",
      "Iteration  500 , params:  [ -2.36859315e-11   3.79240848e-12  -1.64019694e-12   1.31753273e-11]\n",
      "Learned params:  [ -2.07087027e-11   3.07096776e-12  -9.51726090e-14   1.25121962e-11]\n"
     ]
    }
   ],
   "source": [
    "w_m, b_m = np.random.randn(2)\n",
    "# w_m, b_m = [0.1, 0.2]\n",
    "w_logs, b_logs = np.random.randn(2) * 0.1\n",
    "# w_logs, b_logs = [0.15, -0.2]\n",
    "init_params = np.array([w_m, b_m, w_logs, b_logs])\n",
    "print \"Initial params:\", init_params\n",
    "\n",
    "chain_length = 10\n",
    "samples_per_episode = 20\n",
    "episodes_per_epoch = 50\n",
    "epoch_count = 10\n",
    "\n",
    "def estimate_grad(params, i, reps=10):\n",
    "    notnan_count = 0\n",
    "    tot_g = 0.0\n",
    "    for _ in range(0, reps):\n",
    "        es = np.random.randn(samples_per_episode, chain_length)\n",
    "        g = grad_reward(es, params)\n",
    "    \n",
    "        if not np.any(np.isnan(g)):\n",
    "            tot_g += g\n",
    "            notnan_count += 1\n",
    "    return -g / notnan_count\n",
    "\n",
    "def report_progress(params, i, g):\n",
    "    if (i+1) % episodes_per_epoch == 0:\n",
    "        print \"Iteration \", i+1, \", params: \", params\n",
    "\n",
    "from autograd.optimizers import adam\n",
    "\n",
    "new_params = adam(estimate_grad, init_params, callback=report_progress, \n",
    "                  num_iters=epoch_count*episodes_per_epoch, step_size=0.01)\n",
    "print \"Learned params: \", new_params"
   ]
  },
  {
   "cell_type": "markdown",
   "metadata": {},
   "source": [
    "As we see above, our method does converge to a solution where all parameters are 0. This is the optimal proposal $q_{\\theta}(x_t|x_{t-1}) = \\mathcal{N}(0, 1)$, which is the target distribution itself."
   ]
  },
  {
   "cell_type": "markdown",
   "metadata": {},
   "source": [
    "###1D Mixture of Gaussians example\n",
    "The above example is not very useful because the target distribution is simple and can be exactly learned by a single step Markov chain. Therefore, there is not much point in running a Markov chain to get samples. Now, I'd like to look at a target distribution that cannot be learned exactly by a single step Markov chain. "
   ]
  },
  {
   "cell_type": "code",
   "execution_count": 185,
   "metadata": {
    "collapsed": false
   },
   "outputs": [],
   "source": [
    "def p(x):\n",
    "    \"\"\"\n",
    "    Unnormalized target distribution, a mixture of 2 Gaussians\n",
    "    \"\"\"\n",
    "    return np.exp(-0.5*((x-3.0)**2 + (x+3.0)**2))\n",
    "\n",
    "def get_proposal_distribution(x, params):\n",
    "    \"\"\"\n",
    "    MLP with a single hidden layer\n",
    "    \"\"\"\n",
    "    w_h, b_h, w_o, b_o = params\n",
    "    h = np.maximum(np.dot(x[:, np.newaxis], w_h) + b_h, 0.0)\n",
    "    o = np.dot(h, w_o) + b_o\n",
    "    m = o[:, 0]\n",
    "    s = np.exp(o[:, 1])\n",
    "    return m, s"
   ]
  },
  {
   "cell_type": "code",
   "execution_count": 186,
   "metadata": {
    "collapsed": false,
    "scrolled": true
   },
   "outputs": [
    {
     "name": "stdout",
     "output_type": "stream",
     "text": [
      "Initial params: [array([[-0.00164492, -0.00703599, -0.00222673,  0.00650332,  0.01235202]]), array([ 0.00266052,  0.00910101, -0.01043781,  0.01402108,  0.02410367]), array([[ 0.01080268, -0.0076234 ],\n",
      "       [ 0.0014125 ,  0.00636405],\n",
      "       [ 0.02105997,  0.00282899],\n",
      "       [ 0.00583331,  0.00413195],\n",
      "       [-0.00981871,  0.00461101]]), array([-0.01002317,  0.01563595])]\n",
      "Iteration  100 , reward:  9.37926103229e-05\n",
      "Iteration  200 , reward:  6.70920194135e-05\n",
      "Iteration  300 , reward:  3.34437673073e-05\n",
      "Iteration  400 , reward:  2.44834140503e-05\n",
      "Iteration  500 , reward:  2.49889835873e-05\n",
      "Iteration  600 , reward:  2.49626558336e-05\n",
      "Iteration  700 , reward:  2.25919763367e-05\n",
      "Iteration  800 , reward:  2.10479868791e-05\n",
      "Iteration  900 , reward:  2.24062826549e-05\n",
      "Iteration  1000 , reward:  1.8265696199e-05\n",
      "Iteration  1100 , reward:  2.32710591097e-05\n",
      "Iteration  1200 , reward:  2.18744431908e-05\n",
      "Iteration  1300 , reward:  2.10094341649e-05\n",
      "Iteration  1400 , reward:  2.35338710678e-05\n",
      "Iteration  1500 , reward:  2.22089476915e-05\n",
      "Iteration  1600 , reward:  1.96426690816e-05\n",
      "Iteration  1700 , reward:  2.13385311428e-05\n",
      "Iteration  1800 , reward:  2.29163528332e-05\n",
      "Iteration  1900 , reward:  1.74914331388e-05\n",
      "Iteration  2000 , reward:  2.06163819676e-05\n",
      "Learned params:  [array([[ -1.38996613e-01,   1.15532745e-04,  -2.22673174e-03,\n",
      "          1.15924545e-01,   9.93648669e-03]]), array([ 0.2859183 ,  0.33324286, -0.01043781,  0.339953  ,  0.34620153]), array([[  1.79043412e-03,  -2.01520682e-01],\n",
      "       [  1.53090514e-03,  -3.24090968e-01],\n",
      "       [  2.10599672e-02,   2.82899353e-03],\n",
      "       [  7.62887522e-03,  -1.94989227e-01],\n",
      "       [  2.74785101e-04,  -3.08037629e-01]]), array([-0.00215867, -0.17233097])]\n"
     ]
    }
   ],
   "source": [
    "hidden_unit_count = 5\n",
    "w_h, b_h = np.random.randn(1, hidden_unit_count)*0.01, np.random.randn(hidden_unit_count)*0.01\n",
    "w_o, b_o = np.random.randn(hidden_unit_count, 2)*0.01, np.random.randn(2)*0.01\n",
    "init_params = [w_h, b_h, w_o, b_o]\n",
    "print \"Initial params:\", init_params\n",
    "\n",
    "chain_length = 2\n",
    "samples_per_episode = 20\n",
    "episodes_per_epoch = 100\n",
    "epoch_count = 20\n",
    "\n",
    "def estimate_reward(params, i, reps=10):\n",
    "    tot_r = 0\n",
    "    for _ in range(0, reps):\n",
    "        es = np.random.randn(samples_per_episode, chain_length)\n",
    "        r = reward(es, params)\n",
    "        if not np.isnan(r):\n",
    "            tot_r += r\n",
    "    return -tot_r / reps\n",
    "\n",
    "estimate_grad = ag.grad(estimate_reward, argnum=0)\n",
    "\n",
    "def report_progress(params, i, g):\n",
    "    if (i+1) % episodes_per_epoch == 0:\n",
    "        print \"Iteration\", i+1, \", reward:\", estimate_reward(params, 0, reps=100)\n",
    "\n",
    "from autograd.optimizers import adam\n",
    "\n",
    "new_params = adam(estimate_grad, init_params, callback=report_progress, \n",
    "                  num_iters=epoch_count*episodes_per_epoch, step_size=0.0005)\n",
    "print \"Learned params:\", new_params"
   ]
  },
  {
   "cell_type": "code",
   "execution_count": 191,
   "metadata": {
    "collapsed": false
   },
   "outputs": [
    {
     "data": {
      "text/plain": [
       "<matplotlib.collections.PathCollection at 0x7f1c03c29210>"
      ]
     },
     "execution_count": 191,
     "metadata": {},
     "output_type": "execute_result"
    },
    {
     "data": {
      "image/png": "[encoded data removed]",
      "text/plain": [
       "<matplotlib.figure.Figure at 0x7f1c03e3c110>"
      ]
     },
     "metadata": {},
     "output_type": "display_data"
    }
   ],
   "source": [
    "N = 500\n",
    "x1 = np.random.randn(N)\n",
    "m, s = get_proposal_distribution(x1, new_params)\n",
    "x2 = m + s*np.random.randn(N)\n",
    "\n",
    "import matplotlib.pyplot as plt\n",
    "%matplotlib inline\n",
    "plt.scatter(x1, x2)\n",
    "# plt.hist(x2)"
   ]
  },
  {
   "cell_type": "markdown",
   "metadata": {},
   "source": [
    "It doesn't seem to learn anything useful. I was hoping that the marginal of $x_2$ would be bimodal (like the target distribution)\n",
    "\n",
    "Maybe, I should consider only the last state from a chain as a sample. That would require me to get the marginal probability of last state (which is not easy)."
   ]
  }
 ],
 "metadata": {
  "kernelspec": {
   "display_name": "Python 2",
   "language": "python",
   "name": "python2"
  },
  "language_info": {
   "codemirror_mode": {
    "name": "ipython",
    "version": 2
   },
   "file_extension": ".py",
   "mimetype": "text/x-python",
   "name": "python",
   "nbconvert_exporter": "python",
   "pygments_lexer": "ipython2",
   "version": "2.7.12"
  }
 },
 "nbformat": 4,
 "nbformat_minor": 0
}
